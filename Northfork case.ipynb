{
 "cells": [
  {
   "cell_type": "markdown",
   "id": "aa0b6a85",
   "metadata": {},
   "source": [
    "# Northfork case\n",
    "\n",
    "This notebook is for the Northfork case. The input data are to be structured such that similar ingredients are connected to the same connector, which refers to in this Notebook as `keyword`. For a full description of the task, see [dashboard](https://miro.com/app/board/uXjVMIq3jj0=/).\n",
    "\n",
    "## Data \n",
    "The data are taken from https://docs.google.com/spreadsheets/d/1YO2FcP3H049GrztXx0ATOqC2Y-f5kNk61kquD_k7dos/edit#gid=1528949334. Two sheets can be found on the link: English and French. The data are downoaded into two CSV files named `data_english.csv` and `data_french.csv`. \n",
    "\n",
    "## Script overview\n",
    "The Notebook starts with loading the specific Spacy language model, where the language input is specified by the user, i.e. hardcoded (commented as `FIXME`). This should be the only thing that needs to be changed to run the Notebook with either the English or French input data.\n",
    "\n",
    "The data from the CSV file are loaded to the Notebook as a dataframe. The data are then cleaned such that all numbers are removed and all letters are lowercase. Outlook: number removal shall be fixed in case the amount of values is needed in the ingredient.\n",
    "\n",
    "Looking at the first column of the dataframe (Ingredients), the ingredient in each row is tokenised. The connector or keyword is extracted by choosing the token with dependency of either `ROOT` or `compound`. This is found to be more inclusive than choosing the token that is a noun. The keyword is extracted in form of dictionary, where its key is the connector and the value is the count of how many times the keyword appears. For example, `banane: 99` implies that `banane` appears in 99 rows of ingredient. \n",
    "\n",
    "Since the extracting function is inclusive, a validation is needed to check that the results are correct. Two checks are presented:     \n",
    "1) Check if the sum of the dictionary values is equal to the number of rows of the inout data     \n",
    "2) Check if two keywoords appear in the same row. If not, then the keyword extraction is done correctly.\n",
    "\n",
    "## Outlook\n",
    "Note that the script stops at the validation step. The final step is basically assigning the keyword to the Connector column in the CSV file. The assignment should be done such that one keyword is assigned once for the number of rows that share similar ingredients. This number is basically the value of each dictionary key. In case two keywords appear in the same row, the one that has more occurence is selected as the keyword, together with its corresponding value. Since this is purely Python, it should be done easily and skipped for now (for the sake of time).\n",
    "\n",
    "Note that the English data has a connector of `Full fat cream` for the cream-related ingredients. This script, however, will extract the word `cream` instead. In this case, we can perhaps give a condition to pass the first ingredient of that category to be the connector. \n",
    "\n",
    "## Table of content\n",
    "1. [Data cleaning](#Data-cleaning)\n",
    "2. [Keyword extraction](#Keyword-extraction)\n",
    "3. [Result](#Result)\n",
    "4. [Validation](#Validation)\n",
    "\n",
    "//\n",
    "Prim Pasuwan"
   ]
  },
  {
   "cell_type": "code",
   "execution_count": 1,
   "id": "a6e98afb",
   "metadata": {},
   "outputs": [],
   "source": [
    "import pandas as pd\n",
    "import spacy\n",
    "import re\n",
    "from collections import Counter"
   ]
  },
  {
   "cell_type": "code",
   "execution_count": 2,
   "id": "6e7038d3",
   "metadata": {},
   "outputs": [],
   "source": [
    "# Specify the desired languange\n",
    "#lang = 'english' # FIXME\n",
    "lang = 'french' # FIXME\n",
    "\n",
    "# Load the Spacy language model\n",
    "if lang == 'english':\n",
    "    nlp = spacy.load('en_core_web_sm')\n",
    "\n",
    "if lang == 'french':\n",
    "    nlp = spacy.load('fr_core_news_sm')"
   ]
  },
  {
   "cell_type": "code",
   "execution_count": 3,
   "id": "2a939750",
   "metadata": {},
   "outputs": [],
   "source": [
    "# Read the CSV file into a dataframe\n",
    "df = pd.read_csv('data_'+lang+'.csv') # FIXME"
   ]
  },
  {
   "cell_type": "code",
   "execution_count": 13,
   "id": "3a1a7365",
   "metadata": {
    "scrolled": true
   },
   "outputs": [
    {
     "data": {
      "text/html": [
       "<div>\n",
       "<style scoped>\n",
       "    .dataframe tbody tr th:only-of-type {\n",
       "        vertical-align: middle;\n",
       "    }\n",
       "\n",
       "    .dataframe tbody tr th {\n",
       "        vertical-align: top;\n",
       "    }\n",
       "\n",
       "    .dataframe thead th {\n",
       "        text-align: right;\n",
       "    }\n",
       "</style>\n",
       "<table border=\"1\" class=\"dataframe\">\n",
       "  <thead>\n",
       "    <tr style=\"text-align: right;\">\n",
       "      <th></th>\n",
       "      <th>Ingredients</th>\n",
       "    </tr>\n",
       "  </thead>\n",
       "  <tbody>\n",
       "    <tr>\n",
       "      <th>0</th>\n",
       "      <td>Une banane très délicieuse et bien mûre1</td>\n",
       "    </tr>\n",
       "    <tr>\n",
       "      <th>1</th>\n",
       "      <td>Une banane très délicieuse et bien mûre2</td>\n",
       "    </tr>\n",
       "    <tr>\n",
       "      <th>2</th>\n",
       "      <td>Une banane très délicieuse et bien mûre3</td>\n",
       "    </tr>\n",
       "    <tr>\n",
       "      <th>3</th>\n",
       "      <td>Une banane très délicieuse et bien mûre4</td>\n",
       "    </tr>\n",
       "    <tr>\n",
       "      <th>4</th>\n",
       "      <td>Une banane très délicieuse et bien mûre5</td>\n",
       "    </tr>\n",
       "  </tbody>\n",
       "</table>\n",
       "</div>"
      ],
      "text/plain": [
       "                                Ingredients\n",
       "0  Une banane très délicieuse et bien mûre1\n",
       "1  Une banane très délicieuse et bien mûre2\n",
       "2  Une banane très délicieuse et bien mûre3\n",
       "3  Une banane très délicieuse et bien mûre4\n",
       "4  Une banane très délicieuse et bien mûre5"
      ]
     },
     "execution_count": 13,
     "metadata": {},
     "output_type": "execute_result"
    }
   ],
   "source": [
    "# A quick glance at the data\n",
    "df.head()"
   ]
  },
  {
   "cell_type": "markdown",
   "id": "4fe63269",
   "metadata": {},
   "source": [
    "## Data cleaning"
   ]
  },
  {
   "cell_type": "code",
   "execution_count": 15,
   "id": "b4943835",
   "metadata": {},
   "outputs": [],
   "source": [
    "# Define a function to remove all numbers from a list of string\n",
    "def remove_numbers(s):\n",
    "    pattern = '[0-9]'\n",
    "    s = [re.sub(pattern, '', i) for i in s]\n",
    "    return s"
   ]
  },
  {
   "cell_type": "code",
   "execution_count": 138,
   "id": "8d0b6e42",
   "metadata": {},
   "outputs": [],
   "source": [
    "# Make a new df out of the first column of the data\n",
    "first_column = pd.DataFrame(df[df.columns.values[0]])"
   ]
  },
  {
   "cell_type": "code",
   "execution_count": 145,
   "id": "ba91f4d2",
   "metadata": {},
   "outputs": [],
   "source": [
    "# Lower all capitalised letters \n",
    "col_low = pd.DataFrame(first_column[first_column.columns.values[0]].str.lower())"
   ]
  },
  {
   "cell_type": "code",
   "execution_count": 144,
   "id": "37f734ba",
   "metadata": {},
   "outputs": [
    {
     "data": {
      "text/html": [
       "<div>\n",
       "<style scoped>\n",
       "    .dataframe tbody tr th:only-of-type {\n",
       "        vertical-align: middle;\n",
       "    }\n",
       "\n",
       "    .dataframe tbody tr th {\n",
       "        vertical-align: top;\n",
       "    }\n",
       "\n",
       "    .dataframe thead th {\n",
       "        text-align: right;\n",
       "    }\n",
       "</style>\n",
       "<table border=\"1\" class=\"dataframe\">\n",
       "  <thead>\n",
       "    <tr style=\"text-align: right;\">\n",
       "      <th></th>\n",
       "      <th>Ingredients</th>\n",
       "    </tr>\n",
       "  </thead>\n",
       "  <tbody>\n",
       "    <tr>\n",
       "      <th>0</th>\n",
       "      <td>une banane très délicieuse et bien mûre1</td>\n",
       "    </tr>\n",
       "    <tr>\n",
       "      <th>1</th>\n",
       "      <td>une banane très délicieuse et bien mûre2</td>\n",
       "    </tr>\n",
       "    <tr>\n",
       "      <th>2</th>\n",
       "      <td>une banane très délicieuse et bien mûre3</td>\n",
       "    </tr>\n",
       "    <tr>\n",
       "      <th>3</th>\n",
       "      <td>une banane très délicieuse et bien mûre4</td>\n",
       "    </tr>\n",
       "    <tr>\n",
       "      <th>4</th>\n",
       "      <td>une banane très délicieuse et bien mûre5</td>\n",
       "    </tr>\n",
       "  </tbody>\n",
       "</table>\n",
       "</div>"
      ],
      "text/plain": [
       "                                Ingredients\n",
       "0  une banane très délicieuse et bien mûre1\n",
       "1  une banane très délicieuse et bien mûre2\n",
       "2  une banane très délicieuse et bien mûre3\n",
       "3  une banane très délicieuse et bien mûre4\n",
       "4  une banane très délicieuse et bien mûre5"
      ]
     },
     "execution_count": 144,
     "metadata": {},
     "output_type": "execute_result"
    }
   ],
   "source": [
    "col_low.head()"
   ]
  },
  {
   "cell_type": "code",
   "execution_count": 140,
   "id": "dc4884d3",
   "metadata": {},
   "outputs": [],
   "source": [
    "# Convert df column to a list\n",
    "list_low_ingr = col_low.values.tolist()"
   ]
  },
  {
   "cell_type": "code",
   "execution_count": 127,
   "id": "a42c55e6",
   "metadata": {},
   "outputs": [],
   "source": [
    "# Remove all numbers from the ingredients\n",
    "ingr = remove_numbers(list_low_ingr)"
   ]
  },
  {
   "cell_type": "markdown",
   "id": "65e2c425",
   "metadata": {},
   "source": [
    "## Keyword extraction"
   ]
  },
  {
   "cell_type": "code",
   "execution_count": 43,
   "id": "b6606909",
   "metadata": {},
   "outputs": [],
   "source": [
    "# Define a function to extract the keyword from a string\n",
    "def extract_keyword(text):\n",
    "    doc = nlp(text)\n",
    "    keywords = []\n",
    "    for token in doc:\n",
    "        if token.dep_ == 'ROOT' or token.dep_ == 'compound':\n",
    "            #if token.pos_ == 'NOUN' and token.text not in keywords:\n",
    "                keywords.append(token.text)\n",
    "    return ' '.join(keywords)"
   ]
  },
  {
   "cell_type": "code",
   "execution_count": 128,
   "id": "8eaba1c4",
   "metadata": {},
   "outputs": [],
   "source": [
    "# Extract the keyword from each ingredient i\n",
    "extracted_keyword = [extract_keyword(i) for i in ingr]"
   ]
  },
  {
   "cell_type": "code",
   "execution_count": 129,
   "id": "8935ca1b",
   "metadata": {},
   "outputs": [],
   "source": [
    "# Define a function to count the frequency of the keyword\n",
    "# The function takes a list as an input and return a dictionary\n",
    "def count_keyword(k):\n",
    "    return dict(Counter(k))\n",
    "\n",
    "# To see a list of key or value from the dictionary:\n",
    "# my_dict.keys() or my_dict.values()"
   ]
  },
  {
   "cell_type": "code",
   "execution_count": 130,
   "id": "5747322c",
   "metadata": {},
   "outputs": [],
   "source": [
    "# Get the keyword and its count\n",
    "freq = count_keyword(extracted_keyword)"
   ]
  },
  {
   "cell_type": "markdown",
   "id": "f779088c",
   "metadata": {},
   "source": [
    "## Result"
   ]
  },
  {
   "cell_type": "code",
   "execution_count": 131,
   "id": "d539c785",
   "metadata": {},
   "outputs": [
    {
     "data": {
      "text/plain": [
       "{'banane': 99,\n",
       " 'avocat': 68,\n",
       " 'avoca': 1,\n",
       " 'advocat': 1,\n",
       " 'crème': 180,\n",
       " 'fouet': 55,\n",
       " 'filets': 58,\n",
       " 'cueillies': 19,\n",
       " 'pommes': 24}"
      ]
     },
     "execution_count": 131,
     "metadata": {},
     "output_type": "execute_result"
    }
   ],
   "source": [
    "freq"
   ]
  },
  {
   "cell_type": "markdown",
   "id": "9dbb88b3",
   "metadata": {},
   "source": [
    "## Validation"
   ]
  },
  {
   "cell_type": "code",
   "execution_count": 133,
   "id": "3532edea",
   "metadata": {},
   "outputs": [
    {
     "data": {
      "text/plain": [
       "505"
      ]
     },
     "execution_count": 133,
     "metadata": {},
     "output_type": "execute_result"
    }
   ],
   "source": [
    "# Get the sum of all the counts\n",
    "vsum = 0\n",
    "for v in freq.values():\n",
    "    vsum = vsum + v\n",
    "vsum"
   ]
  },
  {
   "cell_type": "code",
   "execution_count": 134,
   "id": "1728f187",
   "metadata": {},
   "outputs": [
    {
     "data": {
      "text/plain": [
       "(505, 1)"
      ]
     },
     "execution_count": 134,
     "metadata": {},
     "output_type": "execute_result"
    }
   ],
   "source": [
    "df.shape"
   ]
  },
  {
   "cell_type": "code",
   "execution_count": 158,
   "id": "7785541e",
   "metadata": {},
   "outputs": [
    {
     "name": "stdout",
     "output_type": "stream",
     "text": [
      "banane & avocat     0 \n",
      "avocat & avoca      68 \n",
      "avoca & advocat    0 \n",
      "advocat & crème      0 \n",
      "crème & fouet      180 \n",
      "fouet & filets     0 \n",
      "filets & cueillies  0 \n",
      "cueillies & pommes     19 \n"
     ]
    }
   ],
   "source": [
    "# from the following list, go through each row of Ingredients\n",
    "# and count how many times two consecutive keywords appear in the same row\n",
    "# if 0, the keywords are extracted correctly \n",
    "# if not 0, then the two keywords appear in the same ingredient\n",
    "\n",
    "list_keys = list(freq.keys())\n",
    "for i in range(len(list_keys)):\n",
    "    if i<len(list_keys)-1:\n",
    "        print(f'{list_keys[i]}{\" & \"}{list_keys[i+1]:{10}} {col_low[col_low[col_low.columns.values[0]].str.contains(list_keys[i]) & col_low[col_low.columns.values[0]].str.contains(list_keys[i+1])].shape[0] } ')"
   ]
  },
  {
   "cell_type": "markdown",
   "id": "2d4e79f2",
   "metadata": {},
   "source": []
  }
 ],
 "metadata": {
  "kernelspec": {
   "display_name": "Python 3 (ipykernel)",
   "language": "python",
   "name": "python3"
  },
  "language_info": {
   "codemirror_mode": {
    "name": "ipython",
    "version": 3
   },
   "file_extension": ".py",
   "mimetype": "text/x-python",
   "name": "python",
   "nbconvert_exporter": "python",
   "pygments_lexer": "ipython3",
   "version": "3.9.13"
  }
 },
 "nbformat": 4,
 "nbformat_minor": 5
}
